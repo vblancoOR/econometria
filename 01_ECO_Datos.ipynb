{
  "cells": [
    {
      "cell_type": "markdown",
      "id": "d057d212",
      "metadata": {
        "id": "d057d212"
      },
      "source": [
        "\n",
        "# Análisis descriptivo, tratamiento de valores faltantes y variables categóricas"
      ]
    },
    {
      "cell_type": "markdown",
      "id": "8bd315da",
      "metadata": {
        "id": "8bd315da"
      },
      "source": [
        "\n",
        "## Importar datos\n",
        "\n",
        "Cargamos las librerías necesarias.\n",
        "- `pandas` y `numpy` para manipulación de datos,\n",
        "- `matplotlib` para visualizaciones,\n",
        "- `sklearn` para imputación y One-Hot Encoding.\n"
      ]
    },
    {
      "cell_type": "code",
      "execution_count": null,
      "id": "a5728e29",
      "metadata": {
        "id": "a5728e29"
      },
      "outputs": [],
      "source": [
        "\n",
        "import os\n",
        "import pandas as pd\n",
        "import numpy as np\n",
        "import matplotlib.pyplot as plt\n",
        "\n",
        "from sklearn.impute import SimpleImputer\n"
      ]
    },
    {
      "cell_type": "markdown",
      "id": "2149d66f",
      "metadata": {
        "id": "2149d66f"
      },
      "source": [
        "\n",
        "## 1) Carga del CSV (`datos.csv` con separador `;`)\n"
      ]
    },
    {
      "cell_type": "code",
      "execution_count": null,
      "id": "6de1c71c",
      "metadata": {
        "id": "6de1c71c"
      },
      "outputs": [],
      "source": [
        "df = pd.read_csv(\"spotify-2023.csv\")\n",
        "df\n"
      ]
    },
    {
      "cell_type": "markdown",
      "id": "ab9eda35",
      "metadata": {
        "id": "ab9eda35"
      },
      "source": [
        "\n",
        "## 2) Inspección inicial\n",
        "\n",
        "Preguntas guía:\n",
        "- ¿Cuántas observaciones y variables hay?\n",
        "- ¿Qué tipos de datos tenemos (numéricos, cadenas/objetos, fechas)?\n",
        "- ¿Hay columnas con un único valor o muchas categorías?\n"
      ]
    },
    {
      "cell_type": "code",
      "execution_count": null,
      "id": "9e27301b",
      "metadata": {
        "id": "9e27301b"
      },
      "outputs": [],
      "source": [
        "\n",
        "print(\"Dimensiones:\", df.shape)\n",
        "print(\"\\nTipos de datos:\")\n",
        "print(df.dtypes)\n",
        "\n",
        "print(\"\\nPrimeras filas:\")\n",
        "display(df.head())\n",
        "\n",
        "print(\"\\nValores únicos aproximados por columna (hasta 20 ejemplos):\")\n",
        "for col in df.columns:\n",
        "    uniq = df[col].unique()\n",
        "    print(f\"- {col}: {len(uniq)} únicos. Valores:\", uniq[:20])\n"
      ]
    },
    {
      "cell_type": "markdown",
      "id": "e629c3fd",
      "metadata": {
        "id": "e629c3fd"
      },
      "source": [
        "\n",
        "## 3) Análisis descriptivo\n",
        "\n",
        "- Estadísticos básicos para variables **numéricas** con `describe()`.\n",
        "- Resumen de frecuencias para variables **categóricas** (tipo `object`/`category`).\n",
        "\n",
        "> Nota: Si tienes valores numéricos almacenados como texto con comas/puntos, considera convertirlos previamente.\n"
      ]
    },
    {
      "cell_type": "code",
      "execution_count": null,
      "id": "a7959fc0",
      "metadata": {
        "id": "a7959fc0"
      },
      "outputs": [],
      "source": [
        "\n",
        "print(\"Estadísticos descriptivos (numéricos):\")\n",
        "display(df.select_dtypes(include=[np.number]).describe().T)\n",
        "\n",
        "print(\"\\nFrecuencias de las 10 categorías más comunes por columna categórica:\")\n",
        "cat_cols_raw = df.select_dtypes(include=['object','category']).columns.tolist()\n",
        "for col in cat_cols_raw:\n",
        "    print(f\"\\nColumna: {col}\")\n",
        "    display(df[col].value_counts(dropna=False).head(10))\n"
      ]
    },
    {
      "cell_type": "markdown",
      "id": "29cec656",
      "metadata": {
        "id": "29cec656"
      },
      "source": [
        "\n",
        "### Visualizaciones rápidas\n",
        "\n",
        "Reglas:\n",
        "- Usamos `matplotlib`.\n",
        "- **Una gráfica por celda**.\n",
        "- **Sin estilos ni colores específicos**.\n",
        "\n",
        "1. Histograma de la **primera columna numérica**.\n"
      ]
    },
    {
      "cell_type": "code",
      "execution_count": null,
      "id": "22acc0ee",
      "metadata": {
        "id": "22acc0ee"
      },
      "outputs": [],
      "source": [
        "\n",
        "num_cols = df.select_dtypes(include=[np.number]).columns.tolist()\n",
        "plt.figure()\n",
        "df[num_cols[0]].plot(kind='hist', bins=30, title=f'Histograma: {num_cols[0]}')\n",
        "plt.xlabel(num_cols[0])\n",
        "plt.ylabel('Frecuencia')\n",
        "plt.show()\n",
        "\n"
      ]
    },
    {
      "cell_type": "markdown",
      "id": "ba605080",
      "metadata": {
        "id": "ba605080"
      },
      "source": [
        "\n",
        "2. Boxplot de la **segunda columna numérica** (si existe).\n"
      ]
    },
    {
      "cell_type": "code",
      "execution_count": null,
      "id": "4ad870c5",
      "metadata": {
        "id": "4ad870c5"
      },
      "outputs": [],
      "source": [
        "\n",
        "plt.figure()\n",
        "df[[num_cols[1]]].plot(kind='box', title=f'Boxplot: {num_cols[1]}')\n",
        "plt.ylabel(num_cols[1])\n",
        "plt.show()\n"
      ]
    },
    {
      "cell_type": "markdown",
      "id": "4438706b",
      "metadata": {
        "id": "4438706b"
      },
      "source": [
        "\n",
        "## 4) Detección de valores faltantes\n",
        "\n",
        "Aquí calculamos el conteo de `NaN` por columna y el porcentaje de faltantes.\n"
      ]
    },
    {
      "cell_type": "code",
      "execution_count": null,
      "id": "2c851880",
      "metadata": {
        "id": "2c851880"
      },
      "outputs": [],
      "source": [
        "\n",
        "na_counts = df.isna().sum().sort_values(ascending=False)\n",
        "na_pct = (df.isna().mean()*100).sort_values(ascending=False)\n",
        "\n",
        "print(\"Top columnas con más faltantes:\")\n",
        "display(pd.DataFrame({'faltantes': na_counts, 'porcentaje': na_pct}).head(20))\n"
      ]
    },
    {
      "cell_type": "markdown",
      "id": "062b07b2",
      "metadata": {
        "id": "062b07b2"
      },
      "source": [
        "\n",
        "## 5) Imputación de valores faltantes\n",
        "\n",
        "Estrategia simple (puedes ajustarla):\n",
        "- Para **numéricos**: imputar con **mediana** (más robusta a outliers que la media).\n",
        "- Para **categóricos**: imputar con **moda** (valor más frecuente).\n"
      ]
    },
    {
      "cell_type": "code",
      "execution_count": null,
      "id": "32fba34c",
      "metadata": {
        "id": "32fba34c"
      },
      "outputs": [],
      "source": [
        "\n",
        "df_impute = df.copy()\n",
        "\n",
        "num_cols = df_impute.select_dtypes(include=[np.number]).columns.tolist()\n",
        "cat_cols = df_impute.select_dtypes(include=['object','category']).columns.tolist()\n",
        "\n",
        "num_imputer = SimpleImputer(strategy='median')\n",
        "cat_imputer = SimpleImputer(strategy='most_frequent')\n",
        "\n",
        "if num_cols:\n",
        "    df_impute[num_cols] = num_imputer.fit_transform(df_impute[num_cols])\n",
        "if cat_cols:\n",
        "    df_impute[cat_cols] = cat_imputer.fit_transform(df_impute[cat_cols])\n",
        "\n",
        "print(\"Comprobación de faltantes tras imputación:\")\n",
        "display(df_impute.isna().sum().sort_values(ascending=False).head(10))\n"
      ]
    },
    {
      "cell_type": "markdown",
      "id": "e308e92b",
      "metadata": {
        "id": "e308e92b"
      },
      "source": [
        "\n",
        "## 6) Variables dummies\n",
        "\n",
        "Dos caminos:\n",
        "1. **`pandas.get_dummies`** (rápido) con `drop_first=True` para evitar colinealidad perfecta.  \n",
        "2. **`sklearn.OneHotEncoder`** dentro de un `Pipeline` + `ColumnTransformer` (útil para modelado).\n",
        "\n",
        "Primero, normalizamos tipos categóricos a `category`.\n"
      ]
    },
    {
      "cell_type": "code",
      "execution_count": null,
      "id": "c1bdee1e",
      "metadata": {
        "id": "c1bdee1e"
      },
      "outputs": [],
      "source": [
        "\n",
        "df_feat = df_impute.copy()\n",
        "\n",
        "# Asegurar tipo categórico\n",
        "for c in cat_cols:\n",
        "    df_feat[c] = df_feat[c].astype('category')\n",
        "\n",
        "# 6.1 Dummies con pandas\n",
        "df_dummies_pd = pd.get_dummies(df_feat, columns=cat_cols, drop_first=True)\n",
        "print(\"Columnas añadidas (muestra) con get_dummies:\")\n",
        "display([c for c in df_dummies_pd.columns if any(c.startswith(col+'_') for col in cat_cols)][:20])\n",
        "display(df_dummies_pd.head())\n"
      ]
    },
    {
      "cell_type": "markdown",
      "id": "be8510bd",
      "metadata": {
        "id": "be8510bd"
      },
      "source": [
        "\n",
        "## 7) Exportación del dataset limpio\n",
        "\n",
        "Guardamos dos versiones:\n",
        "- `datos_limpios.csv` a partir de **get_dummies (pandas)**.\n"
      ]
    },
    {
      "cell_type": "code",
      "execution_count": null,
      "id": "4341c56a",
      "metadata": {
        "id": "4341c56a"
      },
      "outputs": [],
      "source": [
        "\n",
        "df_dummies_pd.to_csv(\"datos_limpios.csv\", index=False)\n"
      ]
    }
  ],
  "metadata": {
    "kernelspec": {
      "display_name": "Python 3",
      "language": "python",
      "name": "python3"
    },
    "language_info": {
      "codemirror_mode": {
        "name": "ipython",
        "version": 3
      },
      "file_extension": ".py",
      "mimetype": "text/x-python",
      "name": "python",
      "nbconvert_exporter": "python",
      "pygments_lexer": "ipython3",
      "version": "3.13.2"
    },
    "colab": {
      "provenance": []
    }
  },
  "nbformat": 4,
  "nbformat_minor": 5
}
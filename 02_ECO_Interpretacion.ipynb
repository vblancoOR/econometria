{
 "cells": [
  {
   "cell_type": "markdown",
   "id": "9e1675a9",
   "metadata": {},
   "source": [
    "\n",
    "# Interpretación de coeficientes en modelos lineales\n",
    "\n",
    "Ejemplos con modelos lineales, log-lineales, lineal-log, log-log y dummies, usando bases de datos del paquete `wooldridge`.\n"
   ]
  },
  {
   "cell_type": "code",
   "execution_count": null,
   "id": "54f761b7",
   "metadata": {},
   "outputs": [],
   "source": [
    "\n",
    "# 1. Librerías y carga de datos\n",
    "import numpy as np\n",
    "import pandas as pd\n",
    "import statsmodels.api as sm\n",
    "import statsmodels.formula.api as smf\n",
    "from wooldridge import data as wd\n",
    "\n",
    "\n",
    "wd(\"wage1\", description=True)\n",
    "# Cargar datasets\n",
    "wage1 = wd('wage1')\n",
    "hprice1 = wd('hprice1')\n",
    "ceosal1 = wd('ceosal1')\n",
    "mroz = wd('mroz')\n",
    "bwght = wd('bwght')"
   ]
  },
  {
   "cell_type": "markdown",
   "id": "f950f46a",
   "metadata": {},
   "source": [
    "## Modelo lineal–lineal"
   ]
  },
  {
   "cell_type": "code",
   "execution_count": null,
   "id": "0697630c",
   "metadata": {},
   "outputs": [],
   "source": [
    "\n",
    "model1 = smf.ols(\"wage ~ educ + exper\", data=wage1).fit()\n",
    "print(model1.summary())"
   ]
  },
  {
   "cell_type": "markdown",
   "id": "771bc3d0",
   "metadata": {},
   "source": [
    "## Modelo log–lineal"
   ]
  },
  {
   "cell_type": "code",
   "execution_count": null,
   "id": "016520ea",
   "metadata": {},
   "outputs": [],
   "source": [
    "\n",
    "model2 = smf.ols(\"np.log(wage) ~ educ + exper\", data=wage1).fit()\n",
    "print(model2.summary())"
   ]
  },
  {
   "cell_type": "markdown",
   "id": "ecfc82fb",
   "metadata": {},
   "source": [
    "## Modelo lineal–log"
   ]
  },
  {
   "cell_type": "code",
   "execution_count": null,
   "id": "8f0ac690",
   "metadata": {},
   "outputs": [],
   "source": [
    "\n",
    "model3 = smf.ols(\"price ~ np.log(sqrft) + bdrms\", data=hprice1).fit()\n",
    "print(model3.summary())"
   ]
  },
  {
   "cell_type": "markdown",
   "id": "3b339e83",
   "metadata": {},
   "source": [
    "## Modelo log–log"
   ]
  },
  {
   "cell_type": "code",
   "execution_count": null,
   "id": "ffe92ee9",
   "metadata": {},
   "outputs": [],
   "source": [
    "\n",
    "model4 = smf.ols(\"np.log(salary) ~ np.log(sales)\", data=ceosal1).fit()\n",
    "print(model4.summary())"
   ]
  },
  {
   "cell_type": "markdown",
   "id": "65d9e2fc",
   "metadata": {},
   "source": [
    "## Variable dummy (niveles)"
   ]
  },
  {
   "cell_type": "code",
   "execution_count": null,
   "id": "57a7b355",
   "metadata": {},
   "outputs": [],
   "source": [
    "\n",
    "model5 = smf.ols(\"wage ~ female + educ + exper\", data=wage1).fit()\n",
    "print(model5.summary())"
   ]
  },
  {
   "cell_type": "markdown",
   "id": "f9927079",
   "metadata": {},
   "source": [
    "## Variable dummy con log(y)"
   ]
  },
  {
   "cell_type": "code",
   "execution_count": null,
   "id": "b7876d89",
   "metadata": {},
   "outputs": [],
   "source": [
    "\n",
    "model6 = smf.ols(\"np.log(wage) ~ female + educ + exper\", data=wage1).fit()\n",
    "print(model6.summary())"
   ]
  },
  {
   "cell_type": "markdown",
   "id": "06ed7407",
   "metadata": {},
   "source": [
    "## Interacciones en log–lineal: efecto de la educación distinto por género"
   ]
  },
  {
   "cell_type": "code",
   "execution_count": null,
   "id": "08b80173",
   "metadata": {},
   "outputs": [],
   "source": [
    "\n",
    "mod_int = smf.ols(\"np.log(wage) ~ educ * female + exper\", data=wage1).fit()\n",
    "print(mod_int.summary())"
   ]
  },
  {
   "cell_type": "markdown",
   "id": "c18d0b58",
   "metadata": {},
   "source": [
    "## No linealidad en niveles: término cuadrático en experiencia"
   ]
  },
  {
   "cell_type": "code",
   "execution_count": null,
   "id": "f2244100",
   "metadata": {},
   "outputs": [],
   "source": [
    "mod_quad = smf.ols(\"wage ~ educ + exper + I(exper**2)\", data=wage1).fit()\n",
    "print(mod_quad.summary())"
   ]
  },
  {
   "cell_type": "markdown",
   "id": "747efb09",
   "metadata": {},
   "source": [
    "## Log–log multivariado en precios de vivienda"
   ]
  },
  {
   "cell_type": "code",
   "execution_count": null,
   "id": "52eb651c",
   "metadata": {},
   "outputs": [],
   "source": [
    "mod_ll_multi = smf.ols(\"np.log(price) ~ np.log(sqrft) + np.log(lotsize) + bdrms\", data=hprice1).fit()\n",
    "print(mod_ll_multi.summary())"
   ]
  },
  {
   "cell_type": "markdown",
   "id": "7bb56eb7",
   "metadata": {},
   "source": [
    "## Dummies con interacción en niveles: `female * married`"
   ]
  },
  {
   "cell_type": "code",
   "execution_count": null,
   "id": "55fd06de",
   "metadata": {},
   "outputs": [],
   "source": [
    "mod_dint = smf.ols(\"wage ~ female * married + educ + exper\", data=wage1).fit()\n",
    "print(mod_dint.summary())"
   ]
  },
  {
   "cell_type": "markdown",
   "id": "e8c18b89",
   "metadata": {},
   "source": [
    "## `bwght`: tabaquismo materno y peso al nacer"
   ]
  },
  {
   "cell_type": "code",
   "execution_count": null,
   "id": "e1766f98",
   "metadata": {},
   "outputs": [],
   "source": [
    "# (a) Log–lineal\n",
    "mod_bw_ll = smf.ols(\"np.log(bwght) ~ cigs + faminc + motheduc\", data=bwght).fit()\n",
    "print(mod_bw_ll.summary())"
   ]
  },
  {
   "cell_type": "code",
   "execution_count": null,
   "id": "c5c7575c",
   "metadata": {},
   "outputs": [],
   "source": [
    "\n",
    "# (b) Lineal–log (evitar log(0) con +1)\n",
    "mod_bw_linlog = smf.ols(\"bwght ~ np.log(cigs + 1) + faminc + motheduc\", data=bwght).fit()\n",
    "print(mod_bw_linlog.summary())"
   ]
  }
 ],
 "metadata": {
  "kernelspec": {
   "display_name": "Python 3",
   "language": "python",
   "name": "python3"
  },
  "language_info": {
   "codemirror_mode": {
    "name": "ipython",
    "version": 3
   },
   "file_extension": ".py",
   "mimetype": "text/x-python",
   "name": "python",
   "nbconvert_exporter": "python",
   "pygments_lexer": "ipython3",
   "version": "3.13.2"
  }
 },
 "nbformat": 4,
 "nbformat_minor": 5
}

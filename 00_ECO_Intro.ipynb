{
  "cells": [
    {
      "cell_type": "markdown",
      "metadata": {
        "id": "6ZYmOShoppU9"
      },
      "source": [
        "# Introducción a Python para la Econometría"
      ]
    },
    {
      "cell_type": "markdown",
      "metadata": {
        "id": "saWPsD_wppU-"
      },
      "source": [
        "Este notebook está ideado para la asignatura ECONOMETRÍA de los Dobles Grado en Admnistración y Dirección de Empresas e Ingenierías (Informática, Civil y Edificación) de la Universidad de Granada.\n",
        "\n",
        "## Markdown en Jupyter notebooks\n",
        "\n",
        "[markdown](https://www.ibm.com/support/knowledgecenter/en/SSGNPV_1.1.3/dsx/markd-jupyter.html)\n",
        "\n",
        "[LaTeX](https://jupyter-notebook.readthedocs.io/en/stable/examples/Notebook/Typesetting%20Equations.html)\n",
        "\n",
        "## Estilo Python\n",
        "\n",
        "[Python](https://docs.python-guide.org/writing/style/)"
      ]
    },
    {
      "cell_type": "markdown",
      "metadata": {
        "id": "OrhiQYbOppU-"
      },
      "source": [
        "# Modificando Estilo de Texto"
      ]
    },
    {
      "cell_type": "markdown",
      "metadata": {
        "id": "GcKAPhowppU_"
      },
      "source": [
        "Esto es un texto plano en Jupyter.\n",
        "\n",
        "\n",
        "# Título\n",
        "## Cabecera\n",
        "### Subcabecera\n",
        "#### 4o nivel\n",
        "\n",
        "\n",
        "__negrita__ or **negrita**\n",
        "\n",
        "_cursiva_ or *cursiva*\n",
        "\n",
        "Símbolos matemáticos: $\\delta$, $\\sum_{i=1}^n a_i$, $\\begin{pmatrix} 1 & 2 & 3.9\\\\\n",
        "2 & \\pi & 7\\\\\n",
        "1 & 8 & 10\n",
        "\\end{pmatrix}$\n",
        "\n",
        "\n",
        "Listas:\n",
        "\n",
        "\n",
        "Numeradas:\n",
        "\n",
        "1. Primer elemento de la lista\n",
        "1. Segundo elemento de la lista\n",
        "1. Tercer elemento de la lista\n",
        "    1. Con sublistas\n",
        "    1. también numeradas\n",
        "\n",
        "No numeradas:\n",
        "\n",
        "- Primer punto\n",
        "- Segundo punto\n",
        "     - con un subapartado\n",
        "     - o dos\n",
        "\n",
        "\n",
        "<div class=\"alert alert-block alert-info\">\n",
        "<b>Nota</b> Esto es una nota en un recuadro azul.\n",
        "</div>\n",
        "\n",
        "<img src=\"https://github.com/vblancoOR/econometria/blob/main/jupyter.png?raw=1\" alt=\"Descripción de la imagen\" title=\"Título de la imagen\" />\n",
        "\n",
        "Línea horizontal:\n",
        "\n",
        "***\n",
        "\n",
        "Links: [PRADO] (https://pradogrado1920.ugr.es/course/view.php?id=11859)"
      ]
    },
    {
      "cell_type": "code",
      "execution_count": null,
      "metadata": {
        "scrolled": true,
        "id": "p61gj-5FppU_"
      },
      "outputs": [],
      "source": [
        "print(\"Hola Jupyter!\")"
      ]
    },
    {
      "cell_type": "code",
      "execution_count": null,
      "metadata": {
        "id": "in5IqKAvppU_"
      },
      "outputs": [],
      "source": [
        "x = 1 #Esto es un comentario para recordar que x es 1 inicialmente\n",
        "print(\"x=\", x, \"y si sumo 7 ahora tengo \", x+7)\n",
        "\n",
        "import this"
      ]
    },
    {
      "cell_type": "code",
      "execution_count": null,
      "metadata": {
        "id": "mSusDfkwppVA"
      },
      "outputs": [],
      "source": [
        "# Serie de Fibonacci:\n",
        "    # la suma de dos elementos define el siguiente\n",
        "a, b = 0, 1\n",
        "while b < 10:\n",
        "    print(b)\n",
        "    a, b = b, a+b\n",
        "\n",
        "a, b = 0, 1\n",
        "while b < 100:\n",
        "    print(b, end= ',')\n",
        "    a, b = b, a+b"
      ]
    },
    {
      "cell_type": "markdown",
      "metadata": {
        "id": "E_NIlBvippVA"
      },
      "source": [
        "# Statsmodels\n",
        "\n",
        " [statsmodels](https://www.statsmodels.org/)\n",
        "\n",
        "\n",
        "## Un primer modelo econométrico\n",
        "\n",
        "Primeros Datos: Precio de la vivienda"
      ]
    },
    {
      "cell_type": "code",
      "execution_count": null,
      "metadata": {
        "id": "boUWMhVYppVA"
      },
      "outputs": [],
      "source": [
        "import pandas as pd #librería para manejo de datos\n",
        "\n",
        "\n",
        "data= pd.read_csv(\"https://rtgodwin.com/data/houseprice.csv\") #Lee base de datos de web...\n",
        "\n",
        "data\n"
      ]
    },
    {
      "cell_type": "code",
      "execution_count": null,
      "metadata": {
        "id": "tNQFsqyzppVA"
      },
      "outputs": [],
      "source": [
        "import statsmodels.api as sm\n",
        "# Modelo Regresión:  modeldata=stock.values\n",
        "X=data[[\"Age\", \"Rooms\"]]\n",
        "y=data[\"Price\"]\n",
        "\n",
        "\n",
        "results = sm.OLS(y, sm.add_constant(X)).fit()\n",
        "\n",
        "print(results.summary())"
      ]
    },
    {
      "cell_type": "markdown",
      "metadata": {
        "id": "Y-e7e-NNppVA"
      },
      "source": [
        "## Un más fácil aún"
      ]
    },
    {
      "cell_type": "code",
      "execution_count": null,
      "metadata": {
        "id": "d0uq9lQZppVB"
      },
      "outputs": [],
      "source": [
        "n=100\n",
        "import numpy as np\n",
        "X= np.random.normal(0, 10, n)\n",
        "Y= X + np.random.normal(0,1,n)"
      ]
    },
    {
      "cell_type": "code",
      "execution_count": null,
      "metadata": {
        "id": "nRPuYoG3ppVB"
      },
      "outputs": [],
      "source": [
        "import matplotlib.pylab as plt\n",
        "\n",
        "plt.scatter(X,Y, s=1)\n",
        "\n",
        "plt.show()"
      ]
    },
    {
      "cell_type": "code",
      "execution_count": null,
      "metadata": {
        "id": "wd-uzfvEppVB"
      },
      "outputs": [],
      "source": [
        "results = sm.OLS(Y, sm.add_constant(X)).fit()\n",
        "\n",
        "results.summary()"
      ]
    },
    {
      "cell_type": "code",
      "execution_count": null,
      "metadata": {
        "id": "0XYOjJj0ppVB"
      },
      "outputs": [],
      "source": [
        "cte=results.params[0]\n",
        "beta=results.params[1]\n",
        "\n",
        "plt.plot([-20,20],[cte+beta*(-20), cte+beta*20], color='r')\n",
        "plt.scatter(X,Y, s=1)\n",
        "\n",
        "plt.show()"
      ]
    },
    {
      "cell_type": "markdown",
      "metadata": {
        "id": "j4kGSNlzppVB"
      },
      "source": [
        "## Otros datos: Crímenes\n",
        "\n",
        "[Datos Crimenes](https://www.statsmodels.org/dev/datasets/generated/statecrime.html)"
      ]
    },
    {
      "cell_type": "code",
      "execution_count": null,
      "metadata": {
        "id": "bPZh5iV1ppVB"
      },
      "outputs": [],
      "source": [
        "import statsmodels.stats.api as sms\n",
        "from statsmodels.compat import lzip\n",
        "\n",
        "\n",
        "data = sm.datasets.statecrime.load_pandas()\n",
        "data.data"
      ]
    },
    {
      "cell_type": "code",
      "execution_count": null,
      "metadata": {
        "id": "4QlqZRz_ppVB"
      },
      "outputs": [],
      "source": [
        "data.exog"
      ]
    },
    {
      "cell_type": "markdown",
      "metadata": {
        "id": "oKRfhlFOppVC"
      },
      "source": [
        "En esta base de datos se cuenta con las siguientes variables:\n",
        "- state – Nombre del estado americano (51)\n",
        "- violent – Tasa de crímenes violentos/ 100,000 habs. Incluye asesinatos, violaciones forzadas, robos y asaltos graves\n",
        "- murder – Tasa de asesinatos/ 100,000 habs.\n",
        "- hs_grad – Porcentage de poblacion con estudios superiores.\n",
        "- poverty – Porcentage de personas bajo el umbral de la pobreza.\n",
        "- white – Porcentage de población blanca.\n",
        "- single – Porcentage de familias monoparentales.\n",
        "- urban - Porcentage de población en zonas urbanizadas."
      ]
    },
    {
      "cell_type": "code",
      "execution_count": null,
      "metadata": {
        "id": "hrtvGz6oppVC"
      },
      "outputs": [],
      "source": [
        "modeloMCO = sm.OLS(data.endog, sm.add_constant(data.exog))\n",
        "resultado = modeloMCO.fit()\n",
        "print(resultado.summary())"
      ]
    }
  ],
  "metadata": {
    "kernelspec": {
      "display_name": "Python 3 (ipykernel)",
      "language": "python",
      "name": "python3"
    },
    "language_info": {
      "codemirror_mode": {
        "name": "ipython",
        "version": 3
      },
      "file_extension": ".py",
      "mimetype": "text/x-python",
      "name": "python",
      "nbconvert_exporter": "python",
      "pygments_lexer": "ipython3",
      "version": "3.9.18"
    },
    "colab": {
      "provenance": []
    }
  },
  "nbformat": 4,
  "nbformat_minor": 0
}